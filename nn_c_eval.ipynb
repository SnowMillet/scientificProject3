{
 "cells": [
  {
   "cell_type": "code",
   "execution_count": 36,
   "outputs": [
    {
     "name": "stdout",
     "output_type": "stream",
     "text": [
      "1\n"
     ]
    }
   ],
   "source": [
    "import torch\n",
    "import os\n",
    "\n",
    "\n",
    "class Para:\n",
    "    feature_column_start_name = 'ep_ratio_ttm' # 'VOL5'\n",
    "    feature_column_end_name = 'BR' # 'AROON_DOWN'\n",
    "\n",
    "    feature_num = 16 # 8\n",
    "\n",
    "    device = torch.device(\"cuda:0\" if torch.cuda.is_available() else \"cpu\")\n",
    "\n",
    "    data_path = 'data/mt_space_1d_rate_20d_22-22_pre'\n",
    "    model_path = 'models/model_mt_c2_s0.1_b16_lr0.001_d0.5_e60.pth'\n",
    "\n",
    "    classification_n = 2\n",
    "\n",
    "    month_num = len(os.listdir(data_path))\n",
    "\n",
    "para = Para()\n",
    "print(para.month_num)"
   ],
   "metadata": {
    "collapsed": false,
    "pycharm": {
     "name": "#%%\n"
    }
   }
  },
  {
   "cell_type": "code",
   "execution_count": 37,
   "outputs": [],
   "source": [
    "import numpy as np\n",
    "import torch\n",
    "from my_utils.model_class import MLP\n",
    "import pandas as pd\n",
    "\n",
    "def insert_predict(df: pd.DataFrame, model_path, out_nums: int, column_name: str) -> pd.DataFrame:\n",
    "\n",
    "    # 加载模型\n",
    "    model = MLP(in_nums=para.feature_num, out_nums=out_nums, drop_p=0.5)\n",
    "    model.load_state_dict(torch.load(model_path, map_location=para.device))\n",
    "    model = model.to(para.device)\n",
    "\n",
    "    # 运算\n",
    "    model.eval()\n",
    "    predict_tensor = model(torch.Tensor(df.loc[:, para.feature_column_start_name: para.feature_column_end_name].values).to(device=para.device))\n",
    "\n",
    "    # 插入 predict_tensor 列\n",
    "    df.insert(loc=0, column='predict_tensor_'+column_name, value=np.nan)\n",
    "    # 插入 predict_return_bin 列\n",
    "    df.insert(loc=0, column='predict_return_bin_'+column_name, value=np.nan)\n",
    "\n",
    "    df['predict_tensor'+'_'+column_name] = predict_tensor.to(device='cpu').detach().numpy().tolist()\n",
    "    df['predict_return_bin'+'_'+column_name] = predict_tensor.to(device='cpu').detach().numpy().argmax(1)\n",
    "\n",
    "    return df"
   ],
   "metadata": {
    "collapsed": false,
    "pycharm": {
     "name": "#%%\n"
    }
   }
  },
  {
   "cell_type": "code",
   "execution_count": 38,
   "outputs": [
    {
     "data": {
      "text/plain": "              board_type      sector_code  month        date  yield_rate  \\\norder_book_id                                                              \n600519.XSHG    MainBoard  ConsumerStaples      0  2022-01-04   -1.112099   \n600519.XSHG    MainBoard  ConsumerStaples      1  2022-01-05   -0.016932   \n600519.XSHG    MainBoard  ConsumerStaples      2  2022-01-06    0.205053   \n600519.XSHG    MainBoard  ConsumerStaples      3  2022-01-07    0.415039   \n600519.XSHG    MainBoard  ConsumerStaples      4  2022-01-10    0.357377   \n600519.XSHG    MainBoard  ConsumerStaples      5  2022-01-11    1.004905   \n600519.XSHG    MainBoard  ConsumerStaples      6  2022-01-12    0.674842   \n600519.XSHG    MainBoard  ConsumerStaples      7  2022-01-13    1.844880   \n600519.XSHG    MainBoard  ConsumerStaples      8  2022-01-14    2.289095   \n600519.XSHG    MainBoard  ConsumerStaples      9  2022-01-17    1.930617   \n600519.XSHG    MainBoard  ConsumerStaples     10  2022-01-18    0.490933   \n600519.XSHG    MainBoard  ConsumerStaples     11  2022-01-19    0.495064   \n600519.XSHG    MainBoard  ConsumerStaples     12  2022-01-20   -1.134695   \n600519.XSHG    MainBoard  ConsumerStaples     13  2022-01-21   -0.845297   \n600519.XSHG    MainBoard  ConsumerStaples     14  2022-01-24   -0.525911   \n600519.XSHG    MainBoard  ConsumerStaples     15  2022-01-25    0.520966   \n600519.XSHG    MainBoard  ConsumerStaples     16  2022-01-26    0.171623   \n600519.XSHG    MainBoard  ConsumerStaples     17  2022-01-27   -0.581172   \n600519.XSHG    MainBoard  ConsumerStaples     18  2022-01-28    0.168589   \n600519.XSHG    MainBoard  ConsumerStaples     19  2022-02-07   -0.641069   \n600519.XSHG    MainBoard  ConsumerStaples     20  2022-02-08    0.435015   \n600519.XSHG    MainBoard  ConsumerStaples     21  2022-02-09    0.027920   \n600519.XSHG    MainBoard  ConsumerStaples     22  2022-02-10    0.563205   \n600519.XSHG    MainBoard  ConsumerStaples     23  2022-02-11    0.513800   \n600519.XSHG    MainBoard  ConsumerStaples     24  2022-02-14   -0.752542   \n600519.XSHG    MainBoard  ConsumerStaples     25  2022-02-15   -2.437430   \n600519.XSHG    MainBoard  ConsumerStaples     26  2022-02-16   -1.425623   \n600519.XSHG    MainBoard  ConsumerStaples     27  2022-02-17   -0.702265   \n600519.XSHG    MainBoard  ConsumerStaples     28  2022-02-18   -1.139272   \n600519.XSHG    MainBoard  ConsumerStaples     29  2022-02-21   -0.799973   \n600519.XSHG    MainBoard  ConsumerStaples     30  2022-02-22    0.005356   \n\n               ep_ratio_ttm  pb_ratio_ttm  sp_ratio_ttm  MACD_DIFF  MACD_DEA  \\\norder_book_id                                                                  \n600519.XSHG       -2.335302      2.445610     -2.335302   2.921090  2.363231   \n600519.XSHG       -1.895815      1.953327     -1.895815   2.546871  2.185792   \n600519.XSHG       -1.198018      1.197999     -1.198018   2.052478  1.969994   \n600519.XSHG       -0.497911      0.470874     -0.497911   1.476416  1.711310   \n600519.XSHG       -0.919124      0.904763     -0.919124   1.124964  1.451868   \n600519.XSHG       -0.472129      0.444660     -0.472129   0.736328  1.186264   \n600519.XSHG       -0.936451      0.922841     -0.936451   0.550913  0.946085   \n600519.XSHG        0.689550     -0.697190      0.689550   0.017137  0.674213   \n600519.XSHG        0.888178     -0.885028      0.888178  -0.435583  0.389094   \n600519.XSHG        0.992093     -0.982472      0.992093  -0.797681  0.106912   \n600519.XSHG        0.408885     -0.428179      0.408885  -0.926332 -0.138050   \n600519.XSHG        0.043476     -0.071487      0.043476  -0.918619 -0.332867   \n600519.XSHG       -0.980039      0.968400     -0.980039  -0.638194 -0.446835   \n600519.XSHG       -1.245191      1.248077     -1.245191  -0.331971 -0.492268   \n600519.XSHG       -0.642991      0.619119     -0.642991  -0.229751 -0.513347   \n600519.XSHG       -0.515669      0.488953     -0.515669  -0.167360 -0.520891   \n600519.XSHG       -0.727352      0.705897     -0.727352  -0.052566 -0.509779   \n600519.XSHG       -0.901779      0.886684     -0.901779   0.093192 -0.479118   \n600519.XSHG        0.507781     -0.523454      0.507781  -0.124915 -0.487167   \n600519.XSHG        0.869733     -0.867672      0.869733  -0.366685 -0.529720   \n600519.XSHG        1.434634     -1.391231      1.434634  -0.667804 -0.608739   \n600519.XSHG        0.339593     -0.361107      0.339593  -0.634573 -0.666991   \n600519.XSHG        0.773206     -0.776556      0.773206  -0.690920 -0.722009   \n600519.XSHG        1.218569     -1.192908      1.218569  -0.817028 -0.784860   \n600519.XSHG        0.856103     -0.854836      0.856103  -0.813090 -0.834553   \n600519.XSHG        0.439789     -0.458009      0.439789  -0.693038 -0.856375   \n600519.XSHG        0.403646     -0.423117      0.403646  -0.571301 -0.855649   \n600519.XSHG        0.507969     -0.523635      0.507969  -0.482525 -0.841808   \n600519.XSHG        0.135363     -0.161880      0.135363  -0.308290 -0.804710   \n600519.XSHG        0.697156     -0.704422      0.697156  -0.288757 -0.772114   \n600519.XSHG        2.062047     -1.954021      2.062047  -0.562408 -0.786912   \n\n               ...     RSI10        SY    BIAS20     VOL30     VOL60  \\\norder_book_id  ...                                                     \n600519.XSHG    ...  0.712980  1.863103  0.661378  1.450246  0.947341   \n600519.XSHG    ...  0.654667  0.849837  0.060708  1.246050  0.831787   \n600519.XSHG    ...  0.224509 -0.163430 -0.703168  1.214134  0.918137   \n600519.XSHG    ... -0.849724 -1.176697 -1.361430  1.097440  1.085080   \n600519.XSHG    ... -1.601866 -0.163430 -0.771570  1.061868  1.140790   \n600519.XSHG    ... -1.445104 -1.176697 -1.109988  0.825540 -1.335304   \n600519.XSHG    ... -1.093784 -0.163430 -0.409835  0.714547 -2.006417   \n600519.XSHG    ... -1.051277 -1.176697 -1.962826  1.072666 -0.538596   \n600519.XSHG    ... -1.726566 -1.176697 -1.938542  1.177189 -0.209170   \n600519.XSHG    ... -1.642673 -2.189964 -1.871228  1.077778 -0.659112   \n600519.XSHG    ... -1.075690 -1.176697 -1.088923  1.079562 -0.724212   \n600519.XSHG    ... -0.557308 -0.163430 -0.563588  0.954967 -0.450305   \n600519.XSHG    ...  0.640202  0.849837  0.692664  0.637468 -0.483409   \n600519.XSHG    ...  1.315682  0.849837  1.147727  0.244895 -0.414333   \n600519.XSHG    ...  0.596840  0.849837  0.678896  0.019844 -0.664687   \n600519.XSHG    ...  0.816148 -0.163430  0.722438 -0.453411 -1.510335   \n600519.XSHG    ...  0.625590  0.849837  1.161826 -0.647713 -1.959562   \n600519.XSHG    ...  2.406619  1.863103  1.450469 -0.499888 -1.184160   \n600519.XSHG    ...  1.062880  1.863103  0.007790 -0.455157 -0.667271   \n600519.XSHG    ...  0.869100  0.849837 -0.208440 -0.610802 -0.245322   \n600519.XSHG    ...  0.076699 -0.163430 -0.606834 -0.499755  1.009432   \n600519.XSHG    ...  0.596903 -0.163430  0.738358 -0.410510  1.350875   \n600519.XSHG    ... -0.486309 -1.176697  0.362041 -0.344730  0.707125   \n600519.XSHG    ... -0.947576 -1.176697 -0.035321 -0.407586  1.286990   \n600519.XSHG    ... -0.321931 -0.163430  0.467711 -0.829604  1.422318   \n600519.XSHG    ...  0.109866 -0.163430  0.992685 -0.952333  1.535133   \n600519.XSHG    ... -0.048751 -0.163430  1.113923 -1.105760  0.545258   \n600519.XSHG    ... -0.273216 -0.163430  0.983773 -1.526622  0.216414   \n600519.XSHG    ...  1.128300  0.849837  1.371956 -1.713074  0.209337   \n600519.XSHG    ...  0.932699  0.849837  0.709404 -1.817002 -0.331080   \n600519.XSHG    ...  0.352090 -0.163430 -0.692055 -1.600246  0.177260   \n\n                 VOL120    VOLT20    VOLT60        AR        BR  \norder_book_id                                                    \n600519.XSHG    1.070849 -0.476504  1.020469  1.494711  2.626663  \n600519.XSHG    1.059580 -0.841824  1.045772  1.176461  1.971050  \n600519.XSHG    1.116921 -0.586665  1.058602  1.007730  1.768864  \n600519.XSHG    1.116436 -0.103082  1.055240  1.001533  1.317006  \n600519.XSHG    1.111305  0.154034  1.058127  1.616634  1.432002  \n600519.XSHG    1.021991  0.430409  0.946287  1.017897  0.765996  \n600519.XSHG    0.986408  0.428394  0.852859  1.637160  1.082187  \n600519.XSHG    1.106139  0.826021  0.816882  0.903792  0.379071  \n600519.XSHG    1.132361  1.185242  0.792926  0.245775 -0.190304  \n600519.XSHG    1.121478  1.587493  0.821724 -0.467707 -0.784654  \n600519.XSHG    1.086159  1.780554  0.808015 -0.398725 -0.419802  \n600519.XSHG    0.991009  1.897564  0.773640 -0.612202 -0.875569  \n600519.XSHG    0.701244  1.882638  0.682470 -0.323945 -0.659285  \n600519.XSHG    0.451132  1.662671  0.601338 -0.146450 -0.562375  \n600519.XSHG    0.175820  1.000790  0.508089 -0.102564 -0.650994  \n600519.XSHG    0.003798  0.585062  0.371679  0.551525 -0.184769  \n600519.XSHG   -0.237640 -0.013701  0.231494  0.332455 -0.335890  \n600519.XSHG   -0.483137 -0.161117 -0.003831  0.021481  0.282913  \n600519.XSHG   -0.543035 -0.407881 -0.126481 -0.690582 -0.393138  \n600519.XSHG   -0.556602 -0.541683 -0.200058 -1.372308 -0.786551  \n600519.XSHG   -0.585068 -0.658505 -0.232914 -2.393824 -1.731424  \n600519.XSHG   -0.637999 -0.908317 -0.401507 -1.543594 -0.985208  \n600519.XSHG   -0.748629 -0.955950 -0.646001 -1.842936 -1.183541  \n600519.XSHG   -0.970816 -0.846218 -0.820918 -0.887856 -0.798642  \n600519.XSHG   -1.053642 -0.884545 -1.018214 -0.922136 -0.949923  \n600519.XSHG   -1.145342 -0.910340 -1.289355 -0.272382 -0.437571  \n600519.XSHG   -1.249925 -1.030866 -1.442124 -0.095890 -0.260340  \n600519.XSHG   -1.294073 -1.043386 -1.626823 -0.128725 -0.081423  \n600519.XSHG   -1.481621 -1.086847 -1.851274  0.771867  0.455255  \n600519.XSHG   -1.657235 -1.123389 -1.946556  0.739643  0.434058  \n600519.XSHG   -1.607867 -0.840050 -1.839556 -0.316835 -0.243662  \n\n[31 rows x 21 columns]",
      "text/html": "<div>\n<style scoped>\n    .dataframe tbody tr th:only-of-type {\n        vertical-align: middle;\n    }\n\n    .dataframe tbody tr th {\n        vertical-align: top;\n    }\n\n    .dataframe thead th {\n        text-align: right;\n    }\n</style>\n<table border=\"1\" class=\"dataframe\">\n  <thead>\n    <tr style=\"text-align: right;\">\n      <th></th>\n      <th>board_type</th>\n      <th>sector_code</th>\n      <th>month</th>\n      <th>date</th>\n      <th>yield_rate</th>\n      <th>ep_ratio_ttm</th>\n      <th>pb_ratio_ttm</th>\n      <th>sp_ratio_ttm</th>\n      <th>MACD_DIFF</th>\n      <th>MACD_DEA</th>\n      <th>...</th>\n      <th>RSI10</th>\n      <th>SY</th>\n      <th>BIAS20</th>\n      <th>VOL30</th>\n      <th>VOL60</th>\n      <th>VOL120</th>\n      <th>VOLT20</th>\n      <th>VOLT60</th>\n      <th>AR</th>\n      <th>BR</th>\n    </tr>\n    <tr>\n      <th>order_book_id</th>\n      <th></th>\n      <th></th>\n      <th></th>\n      <th></th>\n      <th></th>\n      <th></th>\n      <th></th>\n      <th></th>\n      <th></th>\n      <th></th>\n      <th></th>\n      <th></th>\n      <th></th>\n      <th></th>\n      <th></th>\n      <th></th>\n      <th></th>\n      <th></th>\n      <th></th>\n      <th></th>\n      <th></th>\n    </tr>\n  </thead>\n  <tbody>\n    <tr>\n      <th>600519.XSHG</th>\n      <td>MainBoard</td>\n      <td>ConsumerStaples</td>\n      <td>0</td>\n      <td>2022-01-04</td>\n      <td>-1.112099</td>\n      <td>-2.335302</td>\n      <td>2.445610</td>\n      <td>-2.335302</td>\n      <td>2.921090</td>\n      <td>2.363231</td>\n      <td>...</td>\n      <td>0.712980</td>\n      <td>1.863103</td>\n      <td>0.661378</td>\n      <td>1.450246</td>\n      <td>0.947341</td>\n      <td>1.070849</td>\n      <td>-0.476504</td>\n      <td>1.020469</td>\n      <td>1.494711</td>\n      <td>2.626663</td>\n    </tr>\n    <tr>\n      <th>600519.XSHG</th>\n      <td>MainBoard</td>\n      <td>ConsumerStaples</td>\n      <td>1</td>\n      <td>2022-01-05</td>\n      <td>-0.016932</td>\n      <td>-1.895815</td>\n      <td>1.953327</td>\n      <td>-1.895815</td>\n      <td>2.546871</td>\n      <td>2.185792</td>\n      <td>...</td>\n      <td>0.654667</td>\n      <td>0.849837</td>\n      <td>0.060708</td>\n      <td>1.246050</td>\n      <td>0.831787</td>\n      <td>1.059580</td>\n      <td>-0.841824</td>\n      <td>1.045772</td>\n      <td>1.176461</td>\n      <td>1.971050</td>\n    </tr>\n    <tr>\n      <th>600519.XSHG</th>\n      <td>MainBoard</td>\n      <td>ConsumerStaples</td>\n      <td>2</td>\n      <td>2022-01-06</td>\n      <td>0.205053</td>\n      <td>-1.198018</td>\n      <td>1.197999</td>\n      <td>-1.198018</td>\n      <td>2.052478</td>\n      <td>1.969994</td>\n      <td>...</td>\n      <td>0.224509</td>\n      <td>-0.163430</td>\n      <td>-0.703168</td>\n      <td>1.214134</td>\n      <td>0.918137</td>\n      <td>1.116921</td>\n      <td>-0.586665</td>\n      <td>1.058602</td>\n      <td>1.007730</td>\n      <td>1.768864</td>\n    </tr>\n    <tr>\n      <th>600519.XSHG</th>\n      <td>MainBoard</td>\n      <td>ConsumerStaples</td>\n      <td>3</td>\n      <td>2022-01-07</td>\n      <td>0.415039</td>\n      <td>-0.497911</td>\n      <td>0.470874</td>\n      <td>-0.497911</td>\n      <td>1.476416</td>\n      <td>1.711310</td>\n      <td>...</td>\n      <td>-0.849724</td>\n      <td>-1.176697</td>\n      <td>-1.361430</td>\n      <td>1.097440</td>\n      <td>1.085080</td>\n      <td>1.116436</td>\n      <td>-0.103082</td>\n      <td>1.055240</td>\n      <td>1.001533</td>\n      <td>1.317006</td>\n    </tr>\n    <tr>\n      <th>600519.XSHG</th>\n      <td>MainBoard</td>\n      <td>ConsumerStaples</td>\n      <td>4</td>\n      <td>2022-01-10</td>\n      <td>0.357377</td>\n      <td>-0.919124</td>\n      <td>0.904763</td>\n      <td>-0.919124</td>\n      <td>1.124964</td>\n      <td>1.451868</td>\n      <td>...</td>\n      <td>-1.601866</td>\n      <td>-0.163430</td>\n      <td>-0.771570</td>\n      <td>1.061868</td>\n      <td>1.140790</td>\n      <td>1.111305</td>\n      <td>0.154034</td>\n      <td>1.058127</td>\n      <td>1.616634</td>\n      <td>1.432002</td>\n    </tr>\n    <tr>\n      <th>600519.XSHG</th>\n      <td>MainBoard</td>\n      <td>ConsumerStaples</td>\n      <td>5</td>\n      <td>2022-01-11</td>\n      <td>1.004905</td>\n      <td>-0.472129</td>\n      <td>0.444660</td>\n      <td>-0.472129</td>\n      <td>0.736328</td>\n      <td>1.186264</td>\n      <td>...</td>\n      <td>-1.445104</td>\n      <td>-1.176697</td>\n      <td>-1.109988</td>\n      <td>0.825540</td>\n      <td>-1.335304</td>\n      <td>1.021991</td>\n      <td>0.430409</td>\n      <td>0.946287</td>\n      <td>1.017897</td>\n      <td>0.765996</td>\n    </tr>\n    <tr>\n      <th>600519.XSHG</th>\n      <td>MainBoard</td>\n      <td>ConsumerStaples</td>\n      <td>6</td>\n      <td>2022-01-12</td>\n      <td>0.674842</td>\n      <td>-0.936451</td>\n      <td>0.922841</td>\n      <td>-0.936451</td>\n      <td>0.550913</td>\n      <td>0.946085</td>\n      <td>...</td>\n      <td>-1.093784</td>\n      <td>-0.163430</td>\n      <td>-0.409835</td>\n      <td>0.714547</td>\n      <td>-2.006417</td>\n      <td>0.986408</td>\n      <td>0.428394</td>\n      <td>0.852859</td>\n      <td>1.637160</td>\n      <td>1.082187</td>\n    </tr>\n    <tr>\n      <th>600519.XSHG</th>\n      <td>MainBoard</td>\n      <td>ConsumerStaples</td>\n      <td>7</td>\n      <td>2022-01-13</td>\n      <td>1.844880</td>\n      <td>0.689550</td>\n      <td>-0.697190</td>\n      <td>0.689550</td>\n      <td>0.017137</td>\n      <td>0.674213</td>\n      <td>...</td>\n      <td>-1.051277</td>\n      <td>-1.176697</td>\n      <td>-1.962826</td>\n      <td>1.072666</td>\n      <td>-0.538596</td>\n      <td>1.106139</td>\n      <td>0.826021</td>\n      <td>0.816882</td>\n      <td>0.903792</td>\n      <td>0.379071</td>\n    </tr>\n    <tr>\n      <th>600519.XSHG</th>\n      <td>MainBoard</td>\n      <td>ConsumerStaples</td>\n      <td>8</td>\n      <td>2022-01-14</td>\n      <td>2.289095</td>\n      <td>0.888178</td>\n      <td>-0.885028</td>\n      <td>0.888178</td>\n      <td>-0.435583</td>\n      <td>0.389094</td>\n      <td>...</td>\n      <td>-1.726566</td>\n      <td>-1.176697</td>\n      <td>-1.938542</td>\n      <td>1.177189</td>\n      <td>-0.209170</td>\n      <td>1.132361</td>\n      <td>1.185242</td>\n      <td>0.792926</td>\n      <td>0.245775</td>\n      <td>-0.190304</td>\n    </tr>\n    <tr>\n      <th>600519.XSHG</th>\n      <td>MainBoard</td>\n      <td>ConsumerStaples</td>\n      <td>9</td>\n      <td>2022-01-17</td>\n      <td>1.930617</td>\n      <td>0.992093</td>\n      <td>-0.982472</td>\n      <td>0.992093</td>\n      <td>-0.797681</td>\n      <td>0.106912</td>\n      <td>...</td>\n      <td>-1.642673</td>\n      <td>-2.189964</td>\n      <td>-1.871228</td>\n      <td>1.077778</td>\n      <td>-0.659112</td>\n      <td>1.121478</td>\n      <td>1.587493</td>\n      <td>0.821724</td>\n      <td>-0.467707</td>\n      <td>-0.784654</td>\n    </tr>\n    <tr>\n      <th>600519.XSHG</th>\n      <td>MainBoard</td>\n      <td>ConsumerStaples</td>\n      <td>10</td>\n      <td>2022-01-18</td>\n      <td>0.490933</td>\n      <td>0.408885</td>\n      <td>-0.428179</td>\n      <td>0.408885</td>\n      <td>-0.926332</td>\n      <td>-0.138050</td>\n      <td>...</td>\n      <td>-1.075690</td>\n      <td>-1.176697</td>\n      <td>-1.088923</td>\n      <td>1.079562</td>\n      <td>-0.724212</td>\n      <td>1.086159</td>\n      <td>1.780554</td>\n      <td>0.808015</td>\n      <td>-0.398725</td>\n      <td>-0.419802</td>\n    </tr>\n    <tr>\n      <th>600519.XSHG</th>\n      <td>MainBoard</td>\n      <td>ConsumerStaples</td>\n      <td>11</td>\n      <td>2022-01-19</td>\n      <td>0.495064</td>\n      <td>0.043476</td>\n      <td>-0.071487</td>\n      <td>0.043476</td>\n      <td>-0.918619</td>\n      <td>-0.332867</td>\n      <td>...</td>\n      <td>-0.557308</td>\n      <td>-0.163430</td>\n      <td>-0.563588</td>\n      <td>0.954967</td>\n      <td>-0.450305</td>\n      <td>0.991009</td>\n      <td>1.897564</td>\n      <td>0.773640</td>\n      <td>-0.612202</td>\n      <td>-0.875569</td>\n    </tr>\n    <tr>\n      <th>600519.XSHG</th>\n      <td>MainBoard</td>\n      <td>ConsumerStaples</td>\n      <td>12</td>\n      <td>2022-01-20</td>\n      <td>-1.134695</td>\n      <td>-0.980039</td>\n      <td>0.968400</td>\n      <td>-0.980039</td>\n      <td>-0.638194</td>\n      <td>-0.446835</td>\n      <td>...</td>\n      <td>0.640202</td>\n      <td>0.849837</td>\n      <td>0.692664</td>\n      <td>0.637468</td>\n      <td>-0.483409</td>\n      <td>0.701244</td>\n      <td>1.882638</td>\n      <td>0.682470</td>\n      <td>-0.323945</td>\n      <td>-0.659285</td>\n    </tr>\n    <tr>\n      <th>600519.XSHG</th>\n      <td>MainBoard</td>\n      <td>ConsumerStaples</td>\n      <td>13</td>\n      <td>2022-01-21</td>\n      <td>-0.845297</td>\n      <td>-1.245191</td>\n      <td>1.248077</td>\n      <td>-1.245191</td>\n      <td>-0.331971</td>\n      <td>-0.492268</td>\n      <td>...</td>\n      <td>1.315682</td>\n      <td>0.849837</td>\n      <td>1.147727</td>\n      <td>0.244895</td>\n      <td>-0.414333</td>\n      <td>0.451132</td>\n      <td>1.662671</td>\n      <td>0.601338</td>\n      <td>-0.146450</td>\n      <td>-0.562375</td>\n    </tr>\n    <tr>\n      <th>600519.XSHG</th>\n      <td>MainBoard</td>\n      <td>ConsumerStaples</td>\n      <td>14</td>\n      <td>2022-01-24</td>\n      <td>-0.525911</td>\n      <td>-0.642991</td>\n      <td>0.619119</td>\n      <td>-0.642991</td>\n      <td>-0.229751</td>\n      <td>-0.513347</td>\n      <td>...</td>\n      <td>0.596840</td>\n      <td>0.849837</td>\n      <td>0.678896</td>\n      <td>0.019844</td>\n      <td>-0.664687</td>\n      <td>0.175820</td>\n      <td>1.000790</td>\n      <td>0.508089</td>\n      <td>-0.102564</td>\n      <td>-0.650994</td>\n    </tr>\n    <tr>\n      <th>600519.XSHG</th>\n      <td>MainBoard</td>\n      <td>ConsumerStaples</td>\n      <td>15</td>\n      <td>2022-01-25</td>\n      <td>0.520966</td>\n      <td>-0.515669</td>\n      <td>0.488953</td>\n      <td>-0.515669</td>\n      <td>-0.167360</td>\n      <td>-0.520891</td>\n      <td>...</td>\n      <td>0.816148</td>\n      <td>-0.163430</td>\n      <td>0.722438</td>\n      <td>-0.453411</td>\n      <td>-1.510335</td>\n      <td>0.003798</td>\n      <td>0.585062</td>\n      <td>0.371679</td>\n      <td>0.551525</td>\n      <td>-0.184769</td>\n    </tr>\n    <tr>\n      <th>600519.XSHG</th>\n      <td>MainBoard</td>\n      <td>ConsumerStaples</td>\n      <td>16</td>\n      <td>2022-01-26</td>\n      <td>0.171623</td>\n      <td>-0.727352</td>\n      <td>0.705897</td>\n      <td>-0.727352</td>\n      <td>-0.052566</td>\n      <td>-0.509779</td>\n      <td>...</td>\n      <td>0.625590</td>\n      <td>0.849837</td>\n      <td>1.161826</td>\n      <td>-0.647713</td>\n      <td>-1.959562</td>\n      <td>-0.237640</td>\n      <td>-0.013701</td>\n      <td>0.231494</td>\n      <td>0.332455</td>\n      <td>-0.335890</td>\n    </tr>\n    <tr>\n      <th>600519.XSHG</th>\n      <td>MainBoard</td>\n      <td>ConsumerStaples</td>\n      <td>17</td>\n      <td>2022-01-27</td>\n      <td>-0.581172</td>\n      <td>-0.901779</td>\n      <td>0.886684</td>\n      <td>-0.901779</td>\n      <td>0.093192</td>\n      <td>-0.479118</td>\n      <td>...</td>\n      <td>2.406619</td>\n      <td>1.863103</td>\n      <td>1.450469</td>\n      <td>-0.499888</td>\n      <td>-1.184160</td>\n      <td>-0.483137</td>\n      <td>-0.161117</td>\n      <td>-0.003831</td>\n      <td>0.021481</td>\n      <td>0.282913</td>\n    </tr>\n    <tr>\n      <th>600519.XSHG</th>\n      <td>MainBoard</td>\n      <td>ConsumerStaples</td>\n      <td>18</td>\n      <td>2022-01-28</td>\n      <td>0.168589</td>\n      <td>0.507781</td>\n      <td>-0.523454</td>\n      <td>0.507781</td>\n      <td>-0.124915</td>\n      <td>-0.487167</td>\n      <td>...</td>\n      <td>1.062880</td>\n      <td>1.863103</td>\n      <td>0.007790</td>\n      <td>-0.455157</td>\n      <td>-0.667271</td>\n      <td>-0.543035</td>\n      <td>-0.407881</td>\n      <td>-0.126481</td>\n      <td>-0.690582</td>\n      <td>-0.393138</td>\n    </tr>\n    <tr>\n      <th>600519.XSHG</th>\n      <td>MainBoard</td>\n      <td>ConsumerStaples</td>\n      <td>19</td>\n      <td>2022-02-07</td>\n      <td>-0.641069</td>\n      <td>0.869733</td>\n      <td>-0.867672</td>\n      <td>0.869733</td>\n      <td>-0.366685</td>\n      <td>-0.529720</td>\n      <td>...</td>\n      <td>0.869100</td>\n      <td>0.849837</td>\n      <td>-0.208440</td>\n      <td>-0.610802</td>\n      <td>-0.245322</td>\n      <td>-0.556602</td>\n      <td>-0.541683</td>\n      <td>-0.200058</td>\n      <td>-1.372308</td>\n      <td>-0.786551</td>\n    </tr>\n    <tr>\n      <th>600519.XSHG</th>\n      <td>MainBoard</td>\n      <td>ConsumerStaples</td>\n      <td>20</td>\n      <td>2022-02-08</td>\n      <td>0.435015</td>\n      <td>1.434634</td>\n      <td>-1.391231</td>\n      <td>1.434634</td>\n      <td>-0.667804</td>\n      <td>-0.608739</td>\n      <td>...</td>\n      <td>0.076699</td>\n      <td>-0.163430</td>\n      <td>-0.606834</td>\n      <td>-0.499755</td>\n      <td>1.009432</td>\n      <td>-0.585068</td>\n      <td>-0.658505</td>\n      <td>-0.232914</td>\n      <td>-2.393824</td>\n      <td>-1.731424</td>\n    </tr>\n    <tr>\n      <th>600519.XSHG</th>\n      <td>MainBoard</td>\n      <td>ConsumerStaples</td>\n      <td>21</td>\n      <td>2022-02-09</td>\n      <td>0.027920</td>\n      <td>0.339593</td>\n      <td>-0.361107</td>\n      <td>0.339593</td>\n      <td>-0.634573</td>\n      <td>-0.666991</td>\n      <td>...</td>\n      <td>0.596903</td>\n      <td>-0.163430</td>\n      <td>0.738358</td>\n      <td>-0.410510</td>\n      <td>1.350875</td>\n      <td>-0.637999</td>\n      <td>-0.908317</td>\n      <td>-0.401507</td>\n      <td>-1.543594</td>\n      <td>-0.985208</td>\n    </tr>\n    <tr>\n      <th>600519.XSHG</th>\n      <td>MainBoard</td>\n      <td>ConsumerStaples</td>\n      <td>22</td>\n      <td>2022-02-10</td>\n      <td>0.563205</td>\n      <td>0.773206</td>\n      <td>-0.776556</td>\n      <td>0.773206</td>\n      <td>-0.690920</td>\n      <td>-0.722009</td>\n      <td>...</td>\n      <td>-0.486309</td>\n      <td>-1.176697</td>\n      <td>0.362041</td>\n      <td>-0.344730</td>\n      <td>0.707125</td>\n      <td>-0.748629</td>\n      <td>-0.955950</td>\n      <td>-0.646001</td>\n      <td>-1.842936</td>\n      <td>-1.183541</td>\n    </tr>\n    <tr>\n      <th>600519.XSHG</th>\n      <td>MainBoard</td>\n      <td>ConsumerStaples</td>\n      <td>23</td>\n      <td>2022-02-11</td>\n      <td>0.513800</td>\n      <td>1.218569</td>\n      <td>-1.192908</td>\n      <td>1.218569</td>\n      <td>-0.817028</td>\n      <td>-0.784860</td>\n      <td>...</td>\n      <td>-0.947576</td>\n      <td>-1.176697</td>\n      <td>-0.035321</td>\n      <td>-0.407586</td>\n      <td>1.286990</td>\n      <td>-0.970816</td>\n      <td>-0.846218</td>\n      <td>-0.820918</td>\n      <td>-0.887856</td>\n      <td>-0.798642</td>\n    </tr>\n    <tr>\n      <th>600519.XSHG</th>\n      <td>MainBoard</td>\n      <td>ConsumerStaples</td>\n      <td>24</td>\n      <td>2022-02-14</td>\n      <td>-0.752542</td>\n      <td>0.856103</td>\n      <td>-0.854836</td>\n      <td>0.856103</td>\n      <td>-0.813090</td>\n      <td>-0.834553</td>\n      <td>...</td>\n      <td>-0.321931</td>\n      <td>-0.163430</td>\n      <td>0.467711</td>\n      <td>-0.829604</td>\n      <td>1.422318</td>\n      <td>-1.053642</td>\n      <td>-0.884545</td>\n      <td>-1.018214</td>\n      <td>-0.922136</td>\n      <td>-0.949923</td>\n    </tr>\n    <tr>\n      <th>600519.XSHG</th>\n      <td>MainBoard</td>\n      <td>ConsumerStaples</td>\n      <td>25</td>\n      <td>2022-02-15</td>\n      <td>-2.437430</td>\n      <td>0.439789</td>\n      <td>-0.458009</td>\n      <td>0.439789</td>\n      <td>-0.693038</td>\n      <td>-0.856375</td>\n      <td>...</td>\n      <td>0.109866</td>\n      <td>-0.163430</td>\n      <td>0.992685</td>\n      <td>-0.952333</td>\n      <td>1.535133</td>\n      <td>-1.145342</td>\n      <td>-0.910340</td>\n      <td>-1.289355</td>\n      <td>-0.272382</td>\n      <td>-0.437571</td>\n    </tr>\n    <tr>\n      <th>600519.XSHG</th>\n      <td>MainBoard</td>\n      <td>ConsumerStaples</td>\n      <td>26</td>\n      <td>2022-02-16</td>\n      <td>-1.425623</td>\n      <td>0.403646</td>\n      <td>-0.423117</td>\n      <td>0.403646</td>\n      <td>-0.571301</td>\n      <td>-0.855649</td>\n      <td>...</td>\n      <td>-0.048751</td>\n      <td>-0.163430</td>\n      <td>1.113923</td>\n      <td>-1.105760</td>\n      <td>0.545258</td>\n      <td>-1.249925</td>\n      <td>-1.030866</td>\n      <td>-1.442124</td>\n      <td>-0.095890</td>\n      <td>-0.260340</td>\n    </tr>\n    <tr>\n      <th>600519.XSHG</th>\n      <td>MainBoard</td>\n      <td>ConsumerStaples</td>\n      <td>27</td>\n      <td>2022-02-17</td>\n      <td>-0.702265</td>\n      <td>0.507969</td>\n      <td>-0.523635</td>\n      <td>0.507969</td>\n      <td>-0.482525</td>\n      <td>-0.841808</td>\n      <td>...</td>\n      <td>-0.273216</td>\n      <td>-0.163430</td>\n      <td>0.983773</td>\n      <td>-1.526622</td>\n      <td>0.216414</td>\n      <td>-1.294073</td>\n      <td>-1.043386</td>\n      <td>-1.626823</td>\n      <td>-0.128725</td>\n      <td>-0.081423</td>\n    </tr>\n    <tr>\n      <th>600519.XSHG</th>\n      <td>MainBoard</td>\n      <td>ConsumerStaples</td>\n      <td>28</td>\n      <td>2022-02-18</td>\n      <td>-1.139272</td>\n      <td>0.135363</td>\n      <td>-0.161880</td>\n      <td>0.135363</td>\n      <td>-0.308290</td>\n      <td>-0.804710</td>\n      <td>...</td>\n      <td>1.128300</td>\n      <td>0.849837</td>\n      <td>1.371956</td>\n      <td>-1.713074</td>\n      <td>0.209337</td>\n      <td>-1.481621</td>\n      <td>-1.086847</td>\n      <td>-1.851274</td>\n      <td>0.771867</td>\n      <td>0.455255</td>\n    </tr>\n    <tr>\n      <th>600519.XSHG</th>\n      <td>MainBoard</td>\n      <td>ConsumerStaples</td>\n      <td>29</td>\n      <td>2022-02-21</td>\n      <td>-0.799973</td>\n      <td>0.697156</td>\n      <td>-0.704422</td>\n      <td>0.697156</td>\n      <td>-0.288757</td>\n      <td>-0.772114</td>\n      <td>...</td>\n      <td>0.932699</td>\n      <td>0.849837</td>\n      <td>0.709404</td>\n      <td>-1.817002</td>\n      <td>-0.331080</td>\n      <td>-1.657235</td>\n      <td>-1.123389</td>\n      <td>-1.946556</td>\n      <td>0.739643</td>\n      <td>0.434058</td>\n    </tr>\n    <tr>\n      <th>600519.XSHG</th>\n      <td>MainBoard</td>\n      <td>ConsumerStaples</td>\n      <td>30</td>\n      <td>2022-02-22</td>\n      <td>0.005356</td>\n      <td>2.062047</td>\n      <td>-1.954021</td>\n      <td>2.062047</td>\n      <td>-0.562408</td>\n      <td>-0.786912</td>\n      <td>...</td>\n      <td>0.352090</td>\n      <td>-0.163430</td>\n      <td>-0.692055</td>\n      <td>-1.600246</td>\n      <td>0.177260</td>\n      <td>-1.607867</td>\n      <td>-0.840050</td>\n      <td>-1.839556</td>\n      <td>-0.316835</td>\n      <td>-0.243662</td>\n    </tr>\n  </tbody>\n</table>\n<p>31 rows × 21 columns</p>\n</div>"
     },
     "execution_count": 38,
     "metadata": {},
     "output_type": "execute_result"
    }
   ],
   "source": [
    "df = pd.DataFrame()\n",
    "\n",
    "for i_csv in range(para.month_num):\n",
    "    df = pd.read_csv(para.data_path +'/' + str(i_csv) + '.csv', index_col='order_book_id')\n",
    "\n",
    "df"
   ],
   "metadata": {
    "collapsed": false,
    "pycharm": {
     "name": "#%%\n"
    }
   }
  },
  {
   "cell_type": "code",
   "execution_count": 39,
   "outputs": [
    {
     "name": "stdout",
     "output_type": "stream",
     "text": [
      "tensor([0, 0, 0, 0, 0, 0, 0, 0, 0, 0, 0, 0, 0, 1, 1, 1, 1, 1, 1, 1, 1, 1, 1, 1,\n",
      "        1, 1, 1, 1, 1, 1, 1])\n",
      "tensor([1, 0, 1, 0, 0, 1, 0, 1, 1, 1, 1, 0, 0, 1, 0, 1, 0, 0, 0, 0, 1, 1, 0, 0,\n",
      "        0, 0, 0, 0, 0, 1, 1])\n",
      "tensor([0.4615, 0.3333])\n",
      "tensor(0.3871)\n",
      "1    12\n",
      "0     6\n",
      "Name: predict_return_bin, dtype: int64\n",
      "0    18\n",
      "1    13\n",
      "Name: return_bin, dtype: int64\n"
     ]
    }
   ],
   "source": [
    "import torchmetrics\n",
    "import time\n",
    "import matplotlib.pyplot as plt\n",
    "import torch.nn.functional as F\n",
    "\n",
    "precision = torchmetrics.Precision(average='none', num_classes=para.classification_n)\n",
    "accuracy = torchmetrics.Accuracy()\n",
    "\n",
    "# 插入预测数据\n",
    "df = insert_predict(df=df, model_path=para.model_path, out_nums=para.classification_n, column_name='2c')\n",
    "\n",
    "# 综合多个预测数据\n",
    "df.insert(loc=0, column='predict_return_bin', value=np.nan)\n",
    "df.loc[df['predict_return_bin_2c'].isin([0,]), 'predict_return_bin'] = 0\n",
    "df['predict_return_bin'].replace(to_replace=np.nan, value=1, inplace=True)\n",
    "df['predict_return_bin'] = df['predict_return_bin'].astype('int64')\n",
    "\n",
    "df.insert(loc=0, column='probability', value=np.nan)\n",
    "for stock_id in range(len(df.index)):\n",
    "    df.iloc[stock_id, 0] = F.softmax(torch.tensor(df.iloc[stock_id, df.columns.get_loc('predict_tensor_2c')]), dim=0).numpy()[0]\n",
    "\n",
    "# 插入实际 return_bin 列\n",
    "df.insert(loc=0, column='return_bin', value=np.nan)\n",
    "df.loc[df['yield_rate'] > 0.0, 'return_bin'] = 0\n",
    "df['return_bin'].replace(to_replace=np.nan, value=1, inplace=True)\n",
    "df['return_bin'] = df['return_bin'].astype('int64')\n",
    "\n",
    "# 计算精确率\n",
    "df = df.sort_values(by='probability', ascending=False)\n",
    "\n",
    "pred = torch.tensor(df['predict_return_bin']).type(torch.LongTensor)\n",
    "target = torch.tensor(df['return_bin']).type(torch.LongTensor)\n",
    "\n",
    "print(pred)\n",
    "print(target)\n",
    "\n",
    "print(precision(preds=pred, target=target))\n",
    "print(accuracy(preds=pred, target=target))\n",
    "\n",
    "print(df.loc[df['yield_rate']>0.0, 'predict_return_bin'].value_counts())\n",
    "print(df['return_bin'].value_counts())"
   ],
   "metadata": {
    "collapsed": false,
    "pycharm": {
     "name": "#%%\n"
    }
   }
  },
  {
   "cell_type": "code",
   "execution_count": 40,
   "outputs": [
    {
     "name": "stderr",
     "output_type": "stream",
     "text": [
      "c:\\users\\millet\\miniconda3\\envs\\torch1.8-gpu\\lib\\site-packages\\rqdatac\\client.py:197: UserWarning: rqdatac is already inited. Settings will be changed.\n",
      "  warnings.warn(\"rqdatac is already inited. Settings will be changed.\", stacklevel=0)\n"
     ]
    }
   ],
   "source": [
    "from rqdatac import get_price\n",
    "import rqdatac\n",
    "\n",
    "rqdatac.init()\n",
    "hs300_df = get_price(order_book_ids='000300.XSHG', start_date='2022-01-01', end_date='2022-03-22', fields='close')"
   ],
   "metadata": {
    "collapsed": false,
    "pycharm": {
     "name": "#%%\n"
    }
   }
  },
  {
   "cell_type": "code",
   "execution_count": 41,
   "outputs": [
    {
     "data": {
      "text/plain": "<AxesSubplot:xlabel='date'>"
     },
     "execution_count": 41,
     "metadata": {},
     "output_type": "execute_result"
    },
    {
     "data": {
      "text/plain": "<Figure size 432x288 with 1 Axes>",
      "image/png": "[encoded data removed]"
     },
     "metadata": {
      "needs_background": "light"
     },
     "output_type": "display_data"
    }
   ],
   "source": [
    "hs300 = hs300_df.reset_index(level='order_book_id').drop(labels='order_book_id', axis=1)\n",
    "hs300.rolling(5).mean().plot(grid=True)"
   ],
   "metadata": {
    "collapsed": false,
    "pycharm": {
     "name": "#%%\n"
    }
   }
  },
  {
   "cell_type": "markdown",
   "source": [
    "## 测试模型预测"
   ],
   "metadata": {
    "collapsed": false
   }
  },
  {
   "cell_type": "code",
   "execution_count": 42,
   "outputs": [
    {
     "ename": "FileNotFoundError",
     "evalue": "[Errno 2] No such file or directory: 'models/model_c2_p[[0.0, 0.3], [0.7, 1.0]]_b32_lr0.001_d0.5_e500.pth'",
     "output_type": "error",
     "traceback": [
      "\u001B[1;31m---------------------------------------------------------------------------\u001B[0m",
      "\u001B[1;31mFileNotFoundError\u001B[0m                         Traceback (most recent call last)",
      "\u001B[1;32m~\\AppData\\Local\\Temp/ipykernel_2952/1713849274.py\u001B[0m in \u001B[0;36m<module>\u001B[1;34m\u001B[0m\n\u001B[0;32m      3\u001B[0m \u001B[1;33m\u001B[0m\u001B[0m\n\u001B[0;32m      4\u001B[0m \u001B[0mmodel\u001B[0m \u001B[1;33m=\u001B[0m \u001B[0mMLP\u001B[0m\u001B[1;33m(\u001B[0m\u001B[0min_nums\u001B[0m\u001B[1;33m=\u001B[0m\u001B[1;36m22\u001B[0m\u001B[1;33m,\u001B[0m \u001B[0mout_nums\u001B[0m\u001B[1;33m=\u001B[0m\u001B[1;36m2\u001B[0m\u001B[1;33m,\u001B[0m \u001B[0mdrop_p\u001B[0m\u001B[1;33m=\u001B[0m\u001B[1;36m0.5\u001B[0m\u001B[1;33m)\u001B[0m\u001B[1;33m\u001B[0m\u001B[1;33m\u001B[0m\u001B[0m\n\u001B[1;32m----> 5\u001B[1;33m \u001B[0mmodel\u001B[0m\u001B[1;33m.\u001B[0m\u001B[0mload_state_dict\u001B[0m\u001B[1;33m(\u001B[0m\u001B[0mtorch\u001B[0m\u001B[1;33m.\u001B[0m\u001B[0mload\u001B[0m\u001B[1;33m(\u001B[0m\u001B[1;34m'models/model_c2_p[[0.0, 0.3], [0.7, 1.0]]_b32_lr0.001_d0.5_e500.pth'\u001B[0m\u001B[1;33m,\u001B[0m \u001B[0mmap_location\u001B[0m\u001B[1;33m=\u001B[0m\u001B[0mpara\u001B[0m\u001B[1;33m.\u001B[0m\u001B[0mdevice\u001B[0m\u001B[1;33m)\u001B[0m\u001B[1;33m)\u001B[0m\u001B[1;33m\u001B[0m\u001B[1;33m\u001B[0m\u001B[0m\n\u001B[0m\u001B[0;32m      6\u001B[0m \u001B[0mmodel\u001B[0m \u001B[1;33m=\u001B[0m \u001B[0mmodel\u001B[0m\u001B[1;33m.\u001B[0m\u001B[0mto\u001B[0m\u001B[1;33m(\u001B[0m\u001B[0mpara\u001B[0m\u001B[1;33m.\u001B[0m\u001B[0mdevice\u001B[0m\u001B[1;33m)\u001B[0m\u001B[1;33m\u001B[0m\u001B[1;33m\u001B[0m\u001B[0m\n\u001B[0;32m      7\u001B[0m \u001B[1;33m\u001B[0m\u001B[0m\n",
      "\u001B[1;32mc:\\users\\millet\\miniconda3\\envs\\torch1.8-gpu\\lib\\site-packages\\torch\\serialization.py\u001B[0m in \u001B[0;36mload\u001B[1;34m(f, map_location, pickle_module, **pickle_load_args)\u001B[0m\n\u001B[0;32m    577\u001B[0m         \u001B[0mpickle_load_args\u001B[0m\u001B[1;33m[\u001B[0m\u001B[1;34m'encoding'\u001B[0m\u001B[1;33m]\u001B[0m \u001B[1;33m=\u001B[0m \u001B[1;34m'utf-8'\u001B[0m\u001B[1;33m\u001B[0m\u001B[1;33m\u001B[0m\u001B[0m\n\u001B[0;32m    578\u001B[0m \u001B[1;33m\u001B[0m\u001B[0m\n\u001B[1;32m--> 579\u001B[1;33m     \u001B[1;32mwith\u001B[0m \u001B[0m_open_file_like\u001B[0m\u001B[1;33m(\u001B[0m\u001B[0mf\u001B[0m\u001B[1;33m,\u001B[0m \u001B[1;34m'rb'\u001B[0m\u001B[1;33m)\u001B[0m \u001B[1;32mas\u001B[0m \u001B[0mopened_file\u001B[0m\u001B[1;33m:\u001B[0m\u001B[1;33m\u001B[0m\u001B[1;33m\u001B[0m\u001B[0m\n\u001B[0m\u001B[0;32m    580\u001B[0m         \u001B[1;32mif\u001B[0m \u001B[0m_is_zipfile\u001B[0m\u001B[1;33m(\u001B[0m\u001B[0mopened_file\u001B[0m\u001B[1;33m)\u001B[0m\u001B[1;33m:\u001B[0m\u001B[1;33m\u001B[0m\u001B[1;33m\u001B[0m\u001B[0m\n\u001B[0;32m    581\u001B[0m             \u001B[1;31m# The zipfile reader is going to advance the current file position.\u001B[0m\u001B[1;33m\u001B[0m\u001B[1;33m\u001B[0m\u001B[1;33m\u001B[0m\u001B[0m\n",
      "\u001B[1;32mc:\\users\\millet\\miniconda3\\envs\\torch1.8-gpu\\lib\\site-packages\\torch\\serialization.py\u001B[0m in \u001B[0;36m_open_file_like\u001B[1;34m(name_or_buffer, mode)\u001B[0m\n\u001B[0;32m    228\u001B[0m \u001B[1;32mdef\u001B[0m \u001B[0m_open_file_like\u001B[0m\u001B[1;33m(\u001B[0m\u001B[0mname_or_buffer\u001B[0m\u001B[1;33m,\u001B[0m \u001B[0mmode\u001B[0m\u001B[1;33m)\u001B[0m\u001B[1;33m:\u001B[0m\u001B[1;33m\u001B[0m\u001B[1;33m\u001B[0m\u001B[0m\n\u001B[0;32m    229\u001B[0m     \u001B[1;32mif\u001B[0m \u001B[0m_is_path\u001B[0m\u001B[1;33m(\u001B[0m\u001B[0mname_or_buffer\u001B[0m\u001B[1;33m)\u001B[0m\u001B[1;33m:\u001B[0m\u001B[1;33m\u001B[0m\u001B[1;33m\u001B[0m\u001B[0m\n\u001B[1;32m--> 230\u001B[1;33m         \u001B[1;32mreturn\u001B[0m \u001B[0m_open_file\u001B[0m\u001B[1;33m(\u001B[0m\u001B[0mname_or_buffer\u001B[0m\u001B[1;33m,\u001B[0m \u001B[0mmode\u001B[0m\u001B[1;33m)\u001B[0m\u001B[1;33m\u001B[0m\u001B[1;33m\u001B[0m\u001B[0m\n\u001B[0m\u001B[0;32m    231\u001B[0m     \u001B[1;32melse\u001B[0m\u001B[1;33m:\u001B[0m\u001B[1;33m\u001B[0m\u001B[1;33m\u001B[0m\u001B[0m\n\u001B[0;32m    232\u001B[0m         \u001B[1;32mif\u001B[0m \u001B[1;34m'w'\u001B[0m \u001B[1;32min\u001B[0m \u001B[0mmode\u001B[0m\u001B[1;33m:\u001B[0m\u001B[1;33m\u001B[0m\u001B[1;33m\u001B[0m\u001B[0m\n",
      "\u001B[1;32mc:\\users\\millet\\miniconda3\\envs\\torch1.8-gpu\\lib\\site-packages\\torch\\serialization.py\u001B[0m in \u001B[0;36m__init__\u001B[1;34m(self, name, mode)\u001B[0m\n\u001B[0;32m    209\u001B[0m \u001B[1;32mclass\u001B[0m \u001B[0m_open_file\u001B[0m\u001B[1;33m(\u001B[0m\u001B[0m_opener\u001B[0m\u001B[1;33m)\u001B[0m\u001B[1;33m:\u001B[0m\u001B[1;33m\u001B[0m\u001B[1;33m\u001B[0m\u001B[0m\n\u001B[0;32m    210\u001B[0m     \u001B[1;32mdef\u001B[0m \u001B[0m__init__\u001B[0m\u001B[1;33m(\u001B[0m\u001B[0mself\u001B[0m\u001B[1;33m,\u001B[0m \u001B[0mname\u001B[0m\u001B[1;33m,\u001B[0m \u001B[0mmode\u001B[0m\u001B[1;33m)\u001B[0m\u001B[1;33m:\u001B[0m\u001B[1;33m\u001B[0m\u001B[1;33m\u001B[0m\u001B[0m\n\u001B[1;32m--> 211\u001B[1;33m         \u001B[0msuper\u001B[0m\u001B[1;33m(\u001B[0m\u001B[0m_open_file\u001B[0m\u001B[1;33m,\u001B[0m \u001B[0mself\u001B[0m\u001B[1;33m)\u001B[0m\u001B[1;33m.\u001B[0m\u001B[0m__init__\u001B[0m\u001B[1;33m(\u001B[0m\u001B[0mopen\u001B[0m\u001B[1;33m(\u001B[0m\u001B[0mname\u001B[0m\u001B[1;33m,\u001B[0m \u001B[0mmode\u001B[0m\u001B[1;33m)\u001B[0m\u001B[1;33m)\u001B[0m\u001B[1;33m\u001B[0m\u001B[1;33m\u001B[0m\u001B[0m\n\u001B[0m\u001B[0;32m    212\u001B[0m \u001B[1;33m\u001B[0m\u001B[0m\n\u001B[0;32m    213\u001B[0m     \u001B[1;32mdef\u001B[0m \u001B[0m__exit__\u001B[0m\u001B[1;33m(\u001B[0m\u001B[0mself\u001B[0m\u001B[1;33m,\u001B[0m \u001B[1;33m*\u001B[0m\u001B[0margs\u001B[0m\u001B[1;33m)\u001B[0m\u001B[1;33m:\u001B[0m\u001B[1;33m\u001B[0m\u001B[1;33m\u001B[0m\u001B[0m\n",
      "\u001B[1;31mFileNotFoundError\u001B[0m: [Errno 2] No such file or directory: 'models/model_c2_p[[0.0, 0.3], [0.7, 1.0]]_b32_lr0.001_d0.5_e500.pth'"
     ]
    }
   ],
   "source": [
    "import torch\n",
    "from my_utils.model_class import MLP\n",
    "\n",
    "model = MLP(in_nums=22, out_nums=2, drop_p=0.5)\n",
    "model.load_state_dict(torch.load('models/model_c2_p[[0.0, 0.3], [0.7, 1.0]]_b32_lr0.001_d0.5_e500.pth', map_location=para.device))\n",
    "model = model.to(para.device)\n",
    "\n",
    "model.eval()\n",
    "a = model(torch.Tensor([[0.5]*22]*4).to(device=para.device))\n",
    "a"
   ],
   "metadata": {
    "collapsed": false,
    "pycharm": {
     "name": "#%%\n"
    }
   }
  }
 ],
 "metadata": {
  "kernelspec": {
   "display_name": "Python 3",
   "language": "python",
   "name": "python3"
  },
  "language_info": {
   "codemirror_mode": {
    "name": "ipython",
    "version": 2
   },
   "file_extension": ".py",
   "mimetype": "text/x-python",
   "name": "python",
   "nbconvert_exporter": "python",
   "pygments_lexer": "ipython2",
   "version": "2.7.6"
  }
 },
 "nbformat": 4,
 "nbformat_minor": 0
}