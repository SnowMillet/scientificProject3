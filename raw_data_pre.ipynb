{
 "cells": [
  {
   "cell_type": "code",
   "execution_count": 8,
   "outputs": [
    {
     "name": "stdout",
     "output_type": "stream",
     "text": [
      "2411\n"
     ]
    }
   ],
   "source": [
    "import os\n",
    "\n",
    "\n",
    "class Para:\n",
    "    read_folder_path = 'data/sq_space_1d_rate_20d_12-21_raw'\n",
    "    write_folder_path = 'data/sq_space_1d_rate_20d_12-21_pre'\n",
    "\n",
    "    feature_column_start_name = 'ep_ratio_ttm'\n",
    "    feature_column_end_name = 'BR'\n",
    "\n",
    "    month_num = len(os.listdir(read_folder_path))\n",
    "para = Para()\n",
    "print(para.month_num)"
   ],
   "metadata": {
    "collapsed": false,
    "pycharm": {
     "name": "#%%\n"
    }
   }
  },
  {
   "cell_type": "code",
   "execution_count": 9,
   "outputs": [
    {
     "data": {
      "text/plain": "              board_type            sector_code  yield_rate  month       date  \\\norder_book_id                                                                   \n600104.XSHG    MainBoard  ConsumerDiscretionary    0.100989      0 2012-01-04   \n600104.XSHG    MainBoard  ConsumerDiscretionary    0.076447      1 2012-01-05   \n600104.XSHG    MainBoard  ConsumerDiscretionary    0.088024      2 2012-01-06   \n600104.XSHG    MainBoard  ConsumerDiscretionary    0.057719      3 2012-01-09   \n600104.XSHG    MainBoard  ConsumerDiscretionary    0.017710      4 2012-01-10   \n...                  ...                    ...         ...    ...        ...   \n600104.XSHG    MainBoard  ConsumerDiscretionary    0.035839   2406 2021-11-29   \n600104.XSHG    MainBoard  ConsumerDiscretionary    0.044612   2407 2021-11-30   \n600104.XSHG    MainBoard  ConsumerDiscretionary    0.019812   2408 2021-12-01   \n600104.XSHG    MainBoard  ConsumerDiscretionary   -0.002914   2409 2021-12-02   \n600104.XSHG    MainBoard  ConsumerDiscretionary    0.005361   2410 2021-12-03   \n\n               ep_ratio_ttm  pb_ratio_ttm  sp_ratio_ttm  MACD_DIFF  MACD_DEA  \\\norder_book_id                                                                  \n600104.XSHG        0.111687      2.182483      2.332016  -0.086936 -0.231442   \n600104.XSHG        0.109902      2.217933      2.294742  -0.031787 -0.191511   \n600104.XSHG        0.111373      2.188648      2.325447  -0.003374 -0.153884   \n600104.XSHG        0.106141      2.296540      2.216198   0.074765 -0.108154   \n600104.XSHG        0.103705      2.350485      2.165334   0.163054 -0.053912   \n...                     ...           ...           ...        ...       ...   \n600104.XSHG        0.102816      0.873245      3.309329  -0.070114  0.081087   \n600104.XSHG        0.103538      0.867160      3.332552  -0.121083  0.040653   \n600104.XSHG        0.102307      0.877592      3.292938  -0.140491  0.004424   \n600104.XSHG        0.100319      0.894978      3.228967  -0.122186 -0.020898   \n600104.XSHG        0.100662      0.891936      3.239982  -0.112037 -0.039125   \n\n               ...      RSI10         SY     BIAS20     VOL30     VOL60  \\\norder_book_id  ...                                                        \n600104.XSHG    ...  59.641256  55.555556   4.737601  0.369354  0.363153   \n600104.XSHG    ...  61.702128  66.666667   5.894473  0.384654  0.368433   \n600104.XSHG    ...  61.965812  55.555556   4.162846  0.380515  0.366357   \n600104.XSHG    ...  70.529801  55.555556   8.775004  0.387240  0.370256   \n600104.XSHG    ...  70.333333  66.666667  10.595402  0.400665  0.376082   \n...            ...        ...        ...        ...       ...       ...   \n600104.XSHG    ...  25.352113  44.444444  -4.392519  0.502343  0.460402   \n600104.XSHG    ...  30.857143  33.333333  -4.997738  0.499667  0.455209   \n600104.XSHG    ...  34.594595  44.444444  -3.854854  0.494703  0.447822   \n600104.XSHG    ...  48.826291  44.444444  -1.933702  0.496869  0.448043   \n600104.XSHG    ...  46.296296  33.333333  -1.750018  0.499271  0.444793   \n\n                 VOL120    VOLT20    VOLT60          AR          BR  \norder_book_id                                                        \n600104.XSHG    0.337286  0.278390  0.725711  100.789889   98.615385  \n600104.XSHG    0.341246  0.292549  0.725674  115.268456  106.825397  \n600104.XSHG    0.340036  0.301877  0.722134  111.746032   98.825257  \n600104.XSHG    0.341280  0.350016  0.715151  138.928571  123.228995  \n600104.XSHG    0.342909  0.409107  0.709062  143.830571  116.720779  \n...                 ...       ...       ...         ...         ...  \n600104.XSHG    0.439208  0.812255  0.800774   93.882353   91.043084  \n600104.XSHG    0.439263  0.828216  0.777241   92.108363   95.316159  \n600104.XSHG    0.439180  0.828216  0.765062   99.118388   98.284314  \n600104.XSHG    0.441093  0.829873  0.749961  105.613577  106.931964  \n600104.XSHG    0.442604  0.727675  0.741868  105.789474  109.007833  \n\n[2411 rows x 21 columns]",
      "text/html": "<div>\n<style scoped>\n    .dataframe tbody tr th:only-of-type {\n        vertical-align: middle;\n    }\n\n    .dataframe tbody tr th {\n        vertical-align: top;\n    }\n\n    .dataframe thead th {\n        text-align: right;\n    }\n</style>\n<table border=\"1\" class=\"dataframe\">\n  <thead>\n    <tr style=\"text-align: right;\">\n      <th></th>\n      <th>board_type</th>\n      <th>sector_code</th>\n      <th>yield_rate</th>\n      <th>month</th>\n      <th>date</th>\n      <th>ep_ratio_ttm</th>\n      <th>pb_ratio_ttm</th>\n      <th>sp_ratio_ttm</th>\n      <th>MACD_DIFF</th>\n      <th>MACD_DEA</th>\n      <th>...</th>\n      <th>RSI10</th>\n      <th>SY</th>\n      <th>BIAS20</th>\n      <th>VOL30</th>\n      <th>VOL60</th>\n      <th>VOL120</th>\n      <th>VOLT20</th>\n      <th>VOLT60</th>\n      <th>AR</th>\n      <th>BR</th>\n    </tr>\n    <tr>\n      <th>order_book_id</th>\n      <th></th>\n      <th></th>\n      <th></th>\n      <th></th>\n      <th></th>\n      <th></th>\n      <th></th>\n      <th></th>\n      <th></th>\n      <th></th>\n      <th></th>\n      <th></th>\n      <th></th>\n      <th></th>\n      <th></th>\n      <th></th>\n      <th></th>\n      <th></th>\n      <th></th>\n      <th></th>\n      <th></th>\n    </tr>\n  </thead>\n  <tbody>\n    <tr>\n      <th>600104.XSHG</th>\n      <td>MainBoard</td>\n      <td>ConsumerDiscretionary</td>\n      <td>0.100989</td>\n      <td>0</td>\n      <td>2012-01-04</td>\n      <td>0.111687</td>\n      <td>2.182483</td>\n      <td>2.332016</td>\n      <td>-0.086936</td>\n      <td>-0.231442</td>\n      <td>...</td>\n      <td>59.641256</td>\n      <td>55.555556</td>\n      <td>4.737601</td>\n      <td>0.369354</td>\n      <td>0.363153</td>\n      <td>0.337286</td>\n      <td>0.278390</td>\n      <td>0.725711</td>\n      <td>100.789889</td>\n      <td>98.615385</td>\n    </tr>\n    <tr>\n      <th>600104.XSHG</th>\n      <td>MainBoard</td>\n      <td>ConsumerDiscretionary</td>\n      <td>0.076447</td>\n      <td>1</td>\n      <td>2012-01-05</td>\n      <td>0.109902</td>\n      <td>2.217933</td>\n      <td>2.294742</td>\n      <td>-0.031787</td>\n      <td>-0.191511</td>\n      <td>...</td>\n      <td>61.702128</td>\n      <td>66.666667</td>\n      <td>5.894473</td>\n      <td>0.384654</td>\n      <td>0.368433</td>\n      <td>0.341246</td>\n      <td>0.292549</td>\n      <td>0.725674</td>\n      <td>115.268456</td>\n      <td>106.825397</td>\n    </tr>\n    <tr>\n      <th>600104.XSHG</th>\n      <td>MainBoard</td>\n      <td>ConsumerDiscretionary</td>\n      <td>0.088024</td>\n      <td>2</td>\n      <td>2012-01-06</td>\n      <td>0.111373</td>\n      <td>2.188648</td>\n      <td>2.325447</td>\n      <td>-0.003374</td>\n      <td>-0.153884</td>\n      <td>...</td>\n      <td>61.965812</td>\n      <td>55.555556</td>\n      <td>4.162846</td>\n      <td>0.380515</td>\n      <td>0.366357</td>\n      <td>0.340036</td>\n      <td>0.301877</td>\n      <td>0.722134</td>\n      <td>111.746032</td>\n      <td>98.825257</td>\n    </tr>\n    <tr>\n      <th>600104.XSHG</th>\n      <td>MainBoard</td>\n      <td>ConsumerDiscretionary</td>\n      <td>0.057719</td>\n      <td>3</td>\n      <td>2012-01-09</td>\n      <td>0.106141</td>\n      <td>2.296540</td>\n      <td>2.216198</td>\n      <td>0.074765</td>\n      <td>-0.108154</td>\n      <td>...</td>\n      <td>70.529801</td>\n      <td>55.555556</td>\n      <td>8.775004</td>\n      <td>0.387240</td>\n      <td>0.370256</td>\n      <td>0.341280</td>\n      <td>0.350016</td>\n      <td>0.715151</td>\n      <td>138.928571</td>\n      <td>123.228995</td>\n    </tr>\n    <tr>\n      <th>600104.XSHG</th>\n      <td>MainBoard</td>\n      <td>ConsumerDiscretionary</td>\n      <td>0.017710</td>\n      <td>4</td>\n      <td>2012-01-10</td>\n      <td>0.103705</td>\n      <td>2.350485</td>\n      <td>2.165334</td>\n      <td>0.163054</td>\n      <td>-0.053912</td>\n      <td>...</td>\n      <td>70.333333</td>\n      <td>66.666667</td>\n      <td>10.595402</td>\n      <td>0.400665</td>\n      <td>0.376082</td>\n      <td>0.342909</td>\n      <td>0.409107</td>\n      <td>0.709062</td>\n      <td>143.830571</td>\n      <td>116.720779</td>\n    </tr>\n    <tr>\n      <th>...</th>\n      <td>...</td>\n      <td>...</td>\n      <td>...</td>\n      <td>...</td>\n      <td>...</td>\n      <td>...</td>\n      <td>...</td>\n      <td>...</td>\n      <td>...</td>\n      <td>...</td>\n      <td>...</td>\n      <td>...</td>\n      <td>...</td>\n      <td>...</td>\n      <td>...</td>\n      <td>...</td>\n      <td>...</td>\n      <td>...</td>\n      <td>...</td>\n      <td>...</td>\n      <td>...</td>\n    </tr>\n    <tr>\n      <th>600104.XSHG</th>\n      <td>MainBoard</td>\n      <td>ConsumerDiscretionary</td>\n      <td>0.035839</td>\n      <td>2406</td>\n      <td>2021-11-29</td>\n      <td>0.102816</td>\n      <td>0.873245</td>\n      <td>3.309329</td>\n      <td>-0.070114</td>\n      <td>0.081087</td>\n      <td>...</td>\n      <td>25.352113</td>\n      <td>44.444444</td>\n      <td>-4.392519</td>\n      <td>0.502343</td>\n      <td>0.460402</td>\n      <td>0.439208</td>\n      <td>0.812255</td>\n      <td>0.800774</td>\n      <td>93.882353</td>\n      <td>91.043084</td>\n    </tr>\n    <tr>\n      <th>600104.XSHG</th>\n      <td>MainBoard</td>\n      <td>ConsumerDiscretionary</td>\n      <td>0.044612</td>\n      <td>2407</td>\n      <td>2021-11-30</td>\n      <td>0.103538</td>\n      <td>0.867160</td>\n      <td>3.332552</td>\n      <td>-0.121083</td>\n      <td>0.040653</td>\n      <td>...</td>\n      <td>30.857143</td>\n      <td>33.333333</td>\n      <td>-4.997738</td>\n      <td>0.499667</td>\n      <td>0.455209</td>\n      <td>0.439263</td>\n      <td>0.828216</td>\n      <td>0.777241</td>\n      <td>92.108363</td>\n      <td>95.316159</td>\n    </tr>\n    <tr>\n      <th>600104.XSHG</th>\n      <td>MainBoard</td>\n      <td>ConsumerDiscretionary</td>\n      <td>0.019812</td>\n      <td>2408</td>\n      <td>2021-12-01</td>\n      <td>0.102307</td>\n      <td>0.877592</td>\n      <td>3.292938</td>\n      <td>-0.140491</td>\n      <td>0.004424</td>\n      <td>...</td>\n      <td>34.594595</td>\n      <td>44.444444</td>\n      <td>-3.854854</td>\n      <td>0.494703</td>\n      <td>0.447822</td>\n      <td>0.439180</td>\n      <td>0.828216</td>\n      <td>0.765062</td>\n      <td>99.118388</td>\n      <td>98.284314</td>\n    </tr>\n    <tr>\n      <th>600104.XSHG</th>\n      <td>MainBoard</td>\n      <td>ConsumerDiscretionary</td>\n      <td>-0.002914</td>\n      <td>2409</td>\n      <td>2021-12-02</td>\n      <td>0.100319</td>\n      <td>0.894978</td>\n      <td>3.228967</td>\n      <td>-0.122186</td>\n      <td>-0.020898</td>\n      <td>...</td>\n      <td>48.826291</td>\n      <td>44.444444</td>\n      <td>-1.933702</td>\n      <td>0.496869</td>\n      <td>0.448043</td>\n      <td>0.441093</td>\n      <td>0.829873</td>\n      <td>0.749961</td>\n      <td>105.613577</td>\n      <td>106.931964</td>\n    </tr>\n    <tr>\n      <th>600104.XSHG</th>\n      <td>MainBoard</td>\n      <td>ConsumerDiscretionary</td>\n      <td>0.005361</td>\n      <td>2410</td>\n      <td>2021-12-03</td>\n      <td>0.100662</td>\n      <td>0.891936</td>\n      <td>3.239982</td>\n      <td>-0.112037</td>\n      <td>-0.039125</td>\n      <td>...</td>\n      <td>46.296296</td>\n      <td>33.333333</td>\n      <td>-1.750018</td>\n      <td>0.499271</td>\n      <td>0.444793</td>\n      <td>0.442604</td>\n      <td>0.727675</td>\n      <td>0.741868</td>\n      <td>105.789474</td>\n      <td>109.007833</td>\n    </tr>\n  </tbody>\n</table>\n<p>2411 rows × 21 columns</p>\n</div>"
     },
     "execution_count": 9,
     "metadata": {},
     "output_type": "execute_result"
    }
   ],
   "source": [
    "import time\n",
    "import numpy as np\n",
    "import pandas as pd\n",
    "\n",
    "\n",
    "time_begin = time.time()\n",
    "\n",
    "df = pd.DataFrame()\n",
    "\n",
    "for i_csv in range(para.month_num):\n",
    "\n",
    "    df_curr_month = pd.read_csv(para.read_folder_path +'/'+ str(i_csv) + '.csv', index_col='order_book_id')\n",
    "\n",
    "    df_curr_month['date'] = pd.to_datetime(df_curr_month['date'])\n",
    "\n",
    "    df = pd.concat([df, df_curr_month])\n",
    "\n",
    "df"
   ],
   "metadata": {
    "collapsed": false,
    "pycharm": {
     "name": "#%%\n"
    }
   }
  },
  {
   "cell_type": "code",
   "execution_count": 10,
   "outputs": [
    {
     "name": "stdout",
     "output_type": "stream",
     "text": [
      "\n",
      "Done!\n"
     ]
    }
   ],
   "source": [
    "# Replace infinite updated data with nan\n",
    "df.replace(to_replace=[np.inf, -np.inf], value=np.nan, inplace=True)\n",
    "\n",
    "# 剔除含有 na 的行\n",
    "df_dropna = df.dropna(axis=0, how='any')\n",
    "\n",
    "# 选择特征列和标签列\n",
    "df_dropna_y = df_dropna[['board_type', 'sector_code', 'month', 'date']]\n",
    "df_dropna_features = df_dropna.loc[:, para.feature_column_start_name:para.feature_column_end_name]\n",
    "df_dropna_features = pd.concat([df_dropna['yield_rate'], df_dropna_features], axis=1)\n",
    "\n",
    "# 中位数去极值\n",
    "df_dropna_features = df_dropna_features.clip(\n",
    "    lower=df_dropna_features.median(axis=0) - 5 * df_dropna_features.mad(axis=0),\n",
    "    upper=df_dropna_features.median(axis=0) + 5 * df_dropna_features.mad(axis=0),\n",
    "    axis=1)\n",
    "\n",
    "# 标准化\n",
    "df_dropna_features = (df_dropna_features - df_dropna_features.mean()) / df_dropna_features.std(ddof=0)\n",
    "\n",
    "# 拼接标签列和特征列\n",
    "df_dropna_standard = pd.concat([df_dropna_y, df_dropna_features], axis=1)\n",
    "\n",
    "# 写入文件\n",
    "df_dropna_standard.to_csv(para.write_folder_path + '/0.csv')\n",
    "\n",
    "print()\n",
    "print('Done!')"
   ],
   "metadata": {
    "collapsed": false,
    "pycharm": {
     "name": "#%%\n"
    }
   }
  }
 ],
 "metadata": {
  "kernelspec": {
   "display_name": "Python 3",
   "language": "python",
   "name": "python3"
  },
  "language_info": {
   "codemirror_mode": {
    "name": "ipython",
    "version": 2
   },
   "file_extension": ".py",
   "mimetype": "text/x-python",
   "name": "python",
   "nbconvert_exporter": "python",
   "pygments_lexer": "ipython2",
   "version": "2.7.6"
  }
 },
 "nbformat": 4,
 "nbformat_minor": 0
}