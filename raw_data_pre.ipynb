{
 "cells": [
  {
   "cell_type": "code",
   "execution_count": 13,
   "outputs": [
    {
     "name": "stdout",
     "output_type": "stream",
     "text": [
      "2411\n"
     ]
    }
   ],
   "source": [
    "import os\n",
    "\n",
    "\n",
    "class Para:\n",
    "    read_folder_path = 'data/sk_space_1d_rate_20d_12-21_raw'\n",
    "    write_folder_path = 'data/sk_space_1d_rate_20d_12-21_pre'\n",
    "\n",
    "    feature_column_start_name = 'ep_ratio_ttm'\n",
    "    feature_column_end_name = 'BR'\n",
    "\n",
    "    month_num = len(os.listdir(read_folder_path))\n",
    "para = Para()\n",
    "print(para.month_num)"
   ],
   "metadata": {
    "collapsed": false,
    "pycharm": {
     "name": "#%%\n"
    }
   }
  },
  {
   "cell_type": "code",
   "execution_count": 14,
   "outputs": [
    {
     "data": {
      "text/plain": "              board_type sector_code  yield_rate  month       date  \\\norder_book_id                                                        \n600376.XSHG    MainBoard  RealEstate   -0.008650      0 2012-01-04   \n600376.XSHG    MainBoard  RealEstate    0.034391      1 2012-01-05   \n600376.XSHG    MainBoard  RealEstate    0.088488      2 2012-01-06   \n600376.XSHG    MainBoard  RealEstate    0.013847      3 2012-01-09   \n600376.XSHG    MainBoard  RealEstate   -0.016509      4 2012-01-10   \n...                  ...         ...         ...    ...        ...   \n600376.XSHG    MainBoard  RealEstate    0.166316   2406 2021-11-29   \n600376.XSHG    MainBoard  RealEstate    0.186441   2407 2021-11-30   \n600376.XSHG    MainBoard  RealEstate    0.173640   2408 2021-12-01   \n600376.XSHG    MainBoard  RealEstate    0.168724   2409 2021-12-02   \n600376.XSHG    MainBoard  RealEstate    0.174274   2410 2021-12-03   \n\n               ep_ratio_ttm  pb_ratio_ttm  sp_ratio_ttm  MACD_DIFF  MACD_DEA  \\\norder_book_id                                                                  \n600376.XSHG        0.044343      1.311060      0.391262   0.266303  0.187202   \n600376.XSHG        0.045524      1.277044      0.401684   0.248129  0.199388   \n600376.XSHG        0.045373      1.281296      0.400351   0.233455  0.206201   \n600376.XSHG        0.043728      1.329486      0.385839   0.246421  0.214245   \n600376.XSHG        0.042373      1.372007      0.373882   0.277703  0.226937   \n...                     ...           ...           ...        ...       ...   \n600376.XSHG        0.201045      0.388018      5.202812  -0.070733 -0.094523   \n600376.XSHG        0.202323      0.385567      5.235881  -0.068587 -0.089336   \n600376.XSHG        0.199783      0.390469      5.170159  -0.061337 -0.083736   \n600376.XSHG        0.196495      0.397004      5.085053  -0.048576 -0.076704   \n600376.XSHG        0.198125      0.393736      5.127253  -0.041216 -0.069607   \n\n               ...      RSI10         SY    BIAS20     VOL30     VOL60  \\\norder_book_id  ...                                                       \n600376.XSHG    ...  60.089686  66.666667  5.786825  1.562536  1.664137   \n600376.XSHG    ...  56.066946  66.666667  2.678063  1.607689  1.682598   \n600376.XSHG    ...  62.272727  66.666667  2.744786  1.597929  1.662417   \n600376.XSHG    ...  64.069264  66.666667  6.090595  1.624533  1.657415   \n600376.XSHG    ...  62.272727  66.666667  8.751826  1.678813  1.662655   \n...            ...        ...        ...       ...       ...       ...   \n600376.XSHG    ...  48.387097  33.333333  0.486567  0.365571  0.311826   \n600376.XSHG    ...  46.875000  33.333333 -0.190315  0.354401  0.311464   \n600376.XSHG    ...  58.333333  44.444444  1.067766  0.351969  0.311105   \n600376.XSHG    ...  67.441860  44.444444  2.596580  0.355660  0.311885   \n600376.XSHG    ...  57.142857  44.444444  1.569908  0.327126  0.312417   \n\n                 VOL120    VOLT20    VOLT60          AR          BR  \norder_book_id                                                        \n600376.XSHG    1.615586  0.193960  0.234169  197.375328  147.478992  \n600376.XSHG    1.611548  0.191696  0.237295  190.452261  141.649899  \n600376.XSHG    1.608140  0.192225  0.240303  175.462963  130.841121  \n600376.XSHG    1.607297  0.198988  0.246421  172.185430  124.210526  \n600376.XSHG    1.618777  0.213578  0.258807  183.783784  132.263815  \n...                 ...       ...       ...         ...         ...  \n600376.XSHG    0.242845  0.051514  0.295456   72.588832   53.138075  \n600376.XSHG    0.242669  0.050357  0.298859   89.221557   69.473684  \n600376.XSHG    0.243638  0.050833  0.301140  102.666667   81.286550  \n600376.XSHG    0.246003  0.058319  0.301852  129.850746  101.282051  \n600376.XSHG    0.247582  0.057352  0.301898  132.558140   98.701299  \n\n[2411 rows x 21 columns]",
      "text/html": "<div>\n<style scoped>\n    .dataframe tbody tr th:only-of-type {\n        vertical-align: middle;\n    }\n\n    .dataframe tbody tr th {\n        vertical-align: top;\n    }\n\n    .dataframe thead th {\n        text-align: right;\n    }\n</style>\n<table border=\"1\" class=\"dataframe\">\n  <thead>\n    <tr style=\"text-align: right;\">\n      <th></th>\n      <th>board_type</th>\n      <th>sector_code</th>\n      <th>yield_rate</th>\n      <th>month</th>\n      <th>date</th>\n      <th>ep_ratio_ttm</th>\n      <th>pb_ratio_ttm</th>\n      <th>sp_ratio_ttm</th>\n      <th>MACD_DIFF</th>\n      <th>MACD_DEA</th>\n      <th>...</th>\n      <th>RSI10</th>\n      <th>SY</th>\n      <th>BIAS20</th>\n      <th>VOL30</th>\n      <th>VOL60</th>\n      <th>VOL120</th>\n      <th>VOLT20</th>\n      <th>VOLT60</th>\n      <th>AR</th>\n      <th>BR</th>\n    </tr>\n    <tr>\n      <th>order_book_id</th>\n      <th></th>\n      <th></th>\n      <th></th>\n      <th></th>\n      <th></th>\n      <th></th>\n      <th></th>\n      <th></th>\n      <th></th>\n      <th></th>\n      <th></th>\n      <th></th>\n      <th></th>\n      <th></th>\n      <th></th>\n      <th></th>\n      <th></th>\n      <th></th>\n      <th></th>\n      <th></th>\n      <th></th>\n    </tr>\n  </thead>\n  <tbody>\n    <tr>\n      <th>600376.XSHG</th>\n      <td>MainBoard</td>\n      <td>RealEstate</td>\n      <td>-0.008650</td>\n      <td>0</td>\n      <td>2012-01-04</td>\n      <td>0.044343</td>\n      <td>1.311060</td>\n      <td>0.391262</td>\n      <td>0.266303</td>\n      <td>0.187202</td>\n      <td>...</td>\n      <td>60.089686</td>\n      <td>66.666667</td>\n      <td>5.786825</td>\n      <td>1.562536</td>\n      <td>1.664137</td>\n      <td>1.615586</td>\n      <td>0.193960</td>\n      <td>0.234169</td>\n      <td>197.375328</td>\n      <td>147.478992</td>\n    </tr>\n    <tr>\n      <th>600376.XSHG</th>\n      <td>MainBoard</td>\n      <td>RealEstate</td>\n      <td>0.034391</td>\n      <td>1</td>\n      <td>2012-01-05</td>\n      <td>0.045524</td>\n      <td>1.277044</td>\n      <td>0.401684</td>\n      <td>0.248129</td>\n      <td>0.199388</td>\n      <td>...</td>\n      <td>56.066946</td>\n      <td>66.666667</td>\n      <td>2.678063</td>\n      <td>1.607689</td>\n      <td>1.682598</td>\n      <td>1.611548</td>\n      <td>0.191696</td>\n      <td>0.237295</td>\n      <td>190.452261</td>\n      <td>141.649899</td>\n    </tr>\n    <tr>\n      <th>600376.XSHG</th>\n      <td>MainBoard</td>\n      <td>RealEstate</td>\n      <td>0.088488</td>\n      <td>2</td>\n      <td>2012-01-06</td>\n      <td>0.045373</td>\n      <td>1.281296</td>\n      <td>0.400351</td>\n      <td>0.233455</td>\n      <td>0.206201</td>\n      <td>...</td>\n      <td>62.272727</td>\n      <td>66.666667</td>\n      <td>2.744786</td>\n      <td>1.597929</td>\n      <td>1.662417</td>\n      <td>1.608140</td>\n      <td>0.192225</td>\n      <td>0.240303</td>\n      <td>175.462963</td>\n      <td>130.841121</td>\n    </tr>\n    <tr>\n      <th>600376.XSHG</th>\n      <td>MainBoard</td>\n      <td>RealEstate</td>\n      <td>0.013847</td>\n      <td>3</td>\n      <td>2012-01-09</td>\n      <td>0.043728</td>\n      <td>1.329486</td>\n      <td>0.385839</td>\n      <td>0.246421</td>\n      <td>0.214245</td>\n      <td>...</td>\n      <td>64.069264</td>\n      <td>66.666667</td>\n      <td>6.090595</td>\n      <td>1.624533</td>\n      <td>1.657415</td>\n      <td>1.607297</td>\n      <td>0.198988</td>\n      <td>0.246421</td>\n      <td>172.185430</td>\n      <td>124.210526</td>\n    </tr>\n    <tr>\n      <th>600376.XSHG</th>\n      <td>MainBoard</td>\n      <td>RealEstate</td>\n      <td>-0.016509</td>\n      <td>4</td>\n      <td>2012-01-10</td>\n      <td>0.042373</td>\n      <td>1.372007</td>\n      <td>0.373882</td>\n      <td>0.277703</td>\n      <td>0.226937</td>\n      <td>...</td>\n      <td>62.272727</td>\n      <td>66.666667</td>\n      <td>8.751826</td>\n      <td>1.678813</td>\n      <td>1.662655</td>\n      <td>1.618777</td>\n      <td>0.213578</td>\n      <td>0.258807</td>\n      <td>183.783784</td>\n      <td>132.263815</td>\n    </tr>\n    <tr>\n      <th>...</th>\n      <td>...</td>\n      <td>...</td>\n      <td>...</td>\n      <td>...</td>\n      <td>...</td>\n      <td>...</td>\n      <td>...</td>\n      <td>...</td>\n      <td>...</td>\n      <td>...</td>\n      <td>...</td>\n      <td>...</td>\n      <td>...</td>\n      <td>...</td>\n      <td>...</td>\n      <td>...</td>\n      <td>...</td>\n      <td>...</td>\n      <td>...</td>\n      <td>...</td>\n      <td>...</td>\n    </tr>\n    <tr>\n      <th>600376.XSHG</th>\n      <td>MainBoard</td>\n      <td>RealEstate</td>\n      <td>0.166316</td>\n      <td>2406</td>\n      <td>2021-11-29</td>\n      <td>0.201045</td>\n      <td>0.388018</td>\n      <td>5.202812</td>\n      <td>-0.070733</td>\n      <td>-0.094523</td>\n      <td>...</td>\n      <td>48.387097</td>\n      <td>33.333333</td>\n      <td>0.486567</td>\n      <td>0.365571</td>\n      <td>0.311826</td>\n      <td>0.242845</td>\n      <td>0.051514</td>\n      <td>0.295456</td>\n      <td>72.588832</td>\n      <td>53.138075</td>\n    </tr>\n    <tr>\n      <th>600376.XSHG</th>\n      <td>MainBoard</td>\n      <td>RealEstate</td>\n      <td>0.186441</td>\n      <td>2407</td>\n      <td>2021-11-30</td>\n      <td>0.202323</td>\n      <td>0.385567</td>\n      <td>5.235881</td>\n      <td>-0.068587</td>\n      <td>-0.089336</td>\n      <td>...</td>\n      <td>46.875000</td>\n      <td>33.333333</td>\n      <td>-0.190315</td>\n      <td>0.354401</td>\n      <td>0.311464</td>\n      <td>0.242669</td>\n      <td>0.050357</td>\n      <td>0.298859</td>\n      <td>89.221557</td>\n      <td>69.473684</td>\n    </tr>\n    <tr>\n      <th>600376.XSHG</th>\n      <td>MainBoard</td>\n      <td>RealEstate</td>\n      <td>0.173640</td>\n      <td>2408</td>\n      <td>2021-12-01</td>\n      <td>0.199783</td>\n      <td>0.390469</td>\n      <td>5.170159</td>\n      <td>-0.061337</td>\n      <td>-0.083736</td>\n      <td>...</td>\n      <td>58.333333</td>\n      <td>44.444444</td>\n      <td>1.067766</td>\n      <td>0.351969</td>\n      <td>0.311105</td>\n      <td>0.243638</td>\n      <td>0.050833</td>\n      <td>0.301140</td>\n      <td>102.666667</td>\n      <td>81.286550</td>\n    </tr>\n    <tr>\n      <th>600376.XSHG</th>\n      <td>MainBoard</td>\n      <td>RealEstate</td>\n      <td>0.168724</td>\n      <td>2409</td>\n      <td>2021-12-02</td>\n      <td>0.196495</td>\n      <td>0.397004</td>\n      <td>5.085053</td>\n      <td>-0.048576</td>\n      <td>-0.076704</td>\n      <td>...</td>\n      <td>67.441860</td>\n      <td>44.444444</td>\n      <td>2.596580</td>\n      <td>0.355660</td>\n      <td>0.311885</td>\n      <td>0.246003</td>\n      <td>0.058319</td>\n      <td>0.301852</td>\n      <td>129.850746</td>\n      <td>101.282051</td>\n    </tr>\n    <tr>\n      <th>600376.XSHG</th>\n      <td>MainBoard</td>\n      <td>RealEstate</td>\n      <td>0.174274</td>\n      <td>2410</td>\n      <td>2021-12-03</td>\n      <td>0.198125</td>\n      <td>0.393736</td>\n      <td>5.127253</td>\n      <td>-0.041216</td>\n      <td>-0.069607</td>\n      <td>...</td>\n      <td>57.142857</td>\n      <td>44.444444</td>\n      <td>1.569908</td>\n      <td>0.327126</td>\n      <td>0.312417</td>\n      <td>0.247582</td>\n      <td>0.057352</td>\n      <td>0.301898</td>\n      <td>132.558140</td>\n      <td>98.701299</td>\n    </tr>\n  </tbody>\n</table>\n<p>2411 rows × 21 columns</p>\n</div>"
     },
     "execution_count": 14,
     "metadata": {},
     "output_type": "execute_result"
    }
   ],
   "source": [
    "import time\n",
    "import numpy as np\n",
    "import pandas as pd\n",
    "\n",
    "\n",
    "time_begin = time.time()\n",
    "\n",
    "df = pd.DataFrame()\n",
    "\n",
    "for i_csv in range(para.month_num):\n",
    "\n",
    "    df_curr_month = pd.read_csv(para.read_folder_path +'/'+ str(i_csv) + '.csv', index_col='order_book_id')\n",
    "\n",
    "    df_curr_month['date'] = pd.to_datetime(df_curr_month['date'])\n",
    "\n",
    "    df = pd.concat([df, df_curr_month])\n",
    "\n",
    "df"
   ],
   "metadata": {
    "collapsed": false,
    "pycharm": {
     "name": "#%%\n"
    }
   }
  },
  {
   "cell_type": "code",
   "execution_count": 15,
   "outputs": [
    {
     "name": "stdout",
     "output_type": "stream",
     "text": [
      "\n",
      "Done!\n"
     ]
    }
   ],
   "source": [
    "# Replace infinite updated data with nan\n",
    "df.replace(to_replace=[np.inf, -np.inf], value=np.nan, inplace=True)\n",
    "\n",
    "# 剔除含有 na 的行\n",
    "df_dropna = df.dropna(axis=0, how='any')\n",
    "\n",
    "# 选择特征列和标签列\n",
    "df_dropna_y = df_dropna[['board_type', 'sector_code', 'month', 'date']]\n",
    "df_dropna_features = df_dropna.loc[:, para.feature_column_start_name:para.feature_column_end_name]\n",
    "df_dropna_features = pd.concat([df_dropna['yield_rate'], df_dropna_features], axis=1)\n",
    "\n",
    "# 中位数去极值\n",
    "df_dropna_features = df_dropna_features.clip(\n",
    "    lower=df_dropna_features.median(axis=0) - 5 * df_dropna_features.mad(axis=0),\n",
    "    upper=df_dropna_features.median(axis=0) + 5 * df_dropna_features.mad(axis=0),\n",
    "    axis=1)\n",
    "\n",
    "# 标准化\n",
    "df_dropna_features = (df_dropna_features - df_dropna_features.mean()) / df_dropna_features.std(ddof=0)\n",
    "\n",
    "# 拼接标签列和特征列\n",
    "df_dropna_standard = pd.concat([df_dropna_y, df_dropna_features], axis=1)\n",
    "\n",
    "# 写入文件\n",
    "df_dropna_standard.to_csv(para.write_folder_path + '/0.csv')\n",
    "\n",
    "print()\n",
    "print('Done!')"
   ],
   "metadata": {
    "collapsed": false,
    "pycharm": {
     "name": "#%%\n"
    }
   }
  }
 ],
 "metadata": {
  "kernelspec": {
   "display_name": "Python 3",
   "language": "python",
   "name": "python3"
  },
  "language_info": {
   "codemirror_mode": {
    "name": "ipython",
    "version": 2
   },
   "file_extension": ".py",
   "mimetype": "text/x-python",
   "name": "python",
   "nbconvert_exporter": "python",
   "pygments_lexer": "ipython2",
   "version": "2.7.6"
  }
 },
 "nbformat": 4,
 "nbformat_minor": 0
}